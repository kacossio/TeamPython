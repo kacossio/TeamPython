{
 "cells": [
  {
   "cell_type": "code",
   "execution_count": 1,
   "metadata": {},
   "outputs": [],
   "source": [
    "import tweepy\n",
    "\n",
    "consumer_key = ''\n",
    "consumer_secret = ''\n",
    "access_token = ''\n",
    "access_token_secret = ''\n",
    "\n",
    "auth = tweepy.OAuthHandler(consumer_key, consumer_secret)\n",
    "auth.set_access_token(access_token, access_token_secret)\n",
    "api = tweepy.API(auth)"
   ]
  },
  {
   "cell_type": "code",
   "execution_count": 2,
   "metadata": {},
   "outputs": [],
   "source": [
    "#create search term and restructure into json format\n",
    "search_term = \"military -filter:retweets\"\n",
    "\n",
    "tweets = api.search(search_term,\n",
    "                    lang=\"en\",\n",
    "                    tweet_mode='extended',\n",
    "                    count = 100,\n",
    "                    result_type = 'recent')\n",
    "\n",
    "all_tweets= []\n",
    "count = 0\n",
    "for one_tweet in tweets:\n",
    "    tweet_dict = {}\n",
    "    for key, value in one_tweet.__dict__.items():\n",
    "        tweet_dict[key] = value\n",
    "    all_tweets.append(tweet_dict)"
   ]
  },
  {
   "cell_type": "code",
   "execution_count": 4,
   "metadata": {},
   "outputs": [
    {
     "data": {
      "text/plain": [
       "{'_api': <tweepy.api.API at 0x266771bf7c8>,\n",
       " '_json': {'created_at': 'Sun Sep 06 16:11:42 +0000 2020',\n",
       "  'id': 1302640627054571522,\n",
       "  'id_str': '1302640627054571522',\n",
       "  'full_text': 'to violate the Constitutional rights of their fellow citizens—much less to provide a bizarre photo op for the elected commander-in-chief, with military leadership standing alongside.”\\n\\nTrump recently claimed that he has received the bodies of slain service members “many, many”',\n",
       "  'truncated': False,\n",
       "  'display_text_range': [0, 277],\n",
       "  'entities': {'hashtags': [], 'symbols': [], 'user_mentions': [], 'urls': []},\n",
       "  'metadata': {'iso_language_code': 'en', 'result_type': 'recent'},\n",
       "  'source': '<a href=\"https://mobile.twitter.com\" rel=\"nofollow\">Twitter Web App</a>',\n",
       "  'in_reply_to_status_id': 1302640625322319873,\n",
       "  'in_reply_to_status_id_str': '1302640625322319873',\n",
       "  'in_reply_to_user_id': 257968813,\n",
       "  'in_reply_to_user_id_str': '257968813',\n",
       "  'in_reply_to_screen_name': 'NeitherExtreme',\n",
       "  'user': {'id': 257968813,\n",
       "   'id_str': '257968813',\n",
       "   'name': 'Just Jim 🌮 🌮 🌮',\n",
       "   'screen_name': 'NeitherExtreme',\n",
       "   'location': '',\n",
       "   'description': \"26 year AF Veteran. \\n\\nEverything I do is for my animals.\\n\\nI'm a man brimming with contradictions.\\n\\nDid I say I ❤ women in boots?\",\n",
       "   'url': None,\n",
       "   'entities': {'description': {'urls': []}},\n",
       "   'protected': False,\n",
       "   'followers_count': 338,\n",
       "   'friends_count': 773,\n",
       "   'listed_count': 0,\n",
       "   'created_at': 'Sat Feb 26 17:35:49 +0000 2011',\n",
       "   'favourites_count': 20121,\n",
       "   'utc_offset': None,\n",
       "   'time_zone': None,\n",
       "   'geo_enabled': False,\n",
       "   'verified': False,\n",
       "   'statuses_count': 14205,\n",
       "   'lang': None,\n",
       "   'contributors_enabled': False,\n",
       "   'is_translator': False,\n",
       "   'is_translation_enabled': False,\n",
       "   'profile_background_color': 'C0DEED',\n",
       "   'profile_background_image_url': 'http://abs.twimg.com/images/themes/theme1/bg.png',\n",
       "   'profile_background_image_url_https': 'https://abs.twimg.com/images/themes/theme1/bg.png',\n",
       "   'profile_background_tile': False,\n",
       "   'profile_image_url': 'http://pbs.twimg.com/profile_images/1221898204981018624/mammg2Yb_normal.jpg',\n",
       "   'profile_image_url_https': 'https://pbs.twimg.com/profile_images/1221898204981018624/mammg2Yb_normal.jpg',\n",
       "   'profile_banner_url': 'https://pbs.twimg.com/profile_banners/257968813/1565736934',\n",
       "   'profile_link_color': '1DA1F2',\n",
       "   'profile_sidebar_border_color': 'C0DEED',\n",
       "   'profile_sidebar_fill_color': 'DDEEF6',\n",
       "   'profile_text_color': '333333',\n",
       "   'profile_use_background_image': True,\n",
       "   'has_extended_profile': False,\n",
       "   'default_profile': True,\n",
       "   'default_profile_image': False,\n",
       "   'following': False,\n",
       "   'follow_request_sent': False,\n",
       "   'notifications': False,\n",
       "   'translator_type': 'none'},\n",
       "  'geo': None,\n",
       "  'coordinates': None,\n",
       "  'place': None,\n",
       "  'contributors': None,\n",
       "  'is_quote_status': False,\n",
       "  'retweet_count': 0,\n",
       "  'favorite_count': 0,\n",
       "  'favorited': False,\n",
       "  'retweeted': False,\n",
       "  'lang': 'en'},\n",
       " 'created_at': datetime.datetime(2020, 9, 6, 16, 11, 42),\n",
       " 'id': 1302640627054571522,\n",
       " 'id_str': '1302640627054571522',\n",
       " 'full_text': 'to violate the Constitutional rights of their fellow citizens—much less to provide a bizarre photo op for the elected commander-in-chief, with military leadership standing alongside.”\\n\\nTrump recently claimed that he has received the bodies of slain service members “many, many”',\n",
       " 'truncated': False,\n",
       " 'display_text_range': [0, 277],\n",
       " 'entities': {'hashtags': [], 'symbols': [], 'user_mentions': [], 'urls': []},\n",
       " 'metadata': {'iso_language_code': 'en', 'result_type': 'recent'},\n",
       " 'source': 'Twitter Web App',\n",
       " 'source_url': 'https://mobile.twitter.com',\n",
       " 'in_reply_to_status_id': 1302640625322319873,\n",
       " 'in_reply_to_status_id_str': '1302640625322319873',\n",
       " 'in_reply_to_user_id': 257968813,\n",
       " 'in_reply_to_user_id_str': '257968813',\n",
       " 'in_reply_to_screen_name': 'NeitherExtreme',\n",
       " 'author': User(_api=<tweepy.api.API object at 0x00000266771BF7C8>, _json={'id': 257968813, 'id_str': '257968813', 'name': 'Just Jim 🌮 🌮 🌮', 'screen_name': 'NeitherExtreme', 'location': '', 'description': \"26 year AF Veteran. \\n\\nEverything I do is for my animals.\\n\\nI'm a man brimming with contradictions.\\n\\nDid I say I ❤ women in boots?\", 'url': None, 'entities': {'description': {'urls': []}}, 'protected': False, 'followers_count': 338, 'friends_count': 773, 'listed_count': 0, 'created_at': 'Sat Feb 26 17:35:49 +0000 2011', 'favourites_count': 20121, 'utc_offset': None, 'time_zone': None, 'geo_enabled': False, 'verified': False, 'statuses_count': 14205, 'lang': None, 'contributors_enabled': False, 'is_translator': False, 'is_translation_enabled': False, 'profile_background_color': 'C0DEED', 'profile_background_image_url': 'http://abs.twimg.com/images/themes/theme1/bg.png', 'profile_background_image_url_https': 'https://abs.twimg.com/images/themes/theme1/bg.png', 'profile_background_tile': False, 'profile_image_url': 'http://pbs.twimg.com/profile_images/1221898204981018624/mammg2Yb_normal.jpg', 'profile_image_url_https': 'https://pbs.twimg.com/profile_images/1221898204981018624/mammg2Yb_normal.jpg', 'profile_banner_url': 'https://pbs.twimg.com/profile_banners/257968813/1565736934', 'profile_link_color': '1DA1F2', 'profile_sidebar_border_color': 'C0DEED', 'profile_sidebar_fill_color': 'DDEEF6', 'profile_text_color': '333333', 'profile_use_background_image': True, 'has_extended_profile': False, 'default_profile': True, 'default_profile_image': False, 'following': False, 'follow_request_sent': False, 'notifications': False, 'translator_type': 'none'}, id=257968813, id_str='257968813', name='Just Jim 🌮 🌮 🌮', screen_name='NeitherExtreme', location='', description=\"26 year AF Veteran. \\n\\nEverything I do is for my animals.\\n\\nI'm a man brimming with contradictions.\\n\\nDid I say I ❤ women in boots?\", url=None, entities={'description': {'urls': []}}, protected=False, followers_count=338, friends_count=773, listed_count=0, created_at=datetime.datetime(2011, 2, 26, 17, 35, 49), favourites_count=20121, utc_offset=None, time_zone=None, geo_enabled=False, verified=False, statuses_count=14205, lang=None, contributors_enabled=False, is_translator=False, is_translation_enabled=False, profile_background_color='C0DEED', profile_background_image_url='http://abs.twimg.com/images/themes/theme1/bg.png', profile_background_image_url_https='https://abs.twimg.com/images/themes/theme1/bg.png', profile_background_tile=False, profile_image_url='http://pbs.twimg.com/profile_images/1221898204981018624/mammg2Yb_normal.jpg', profile_image_url_https='https://pbs.twimg.com/profile_images/1221898204981018624/mammg2Yb_normal.jpg', profile_banner_url='https://pbs.twimg.com/profile_banners/257968813/1565736934', profile_link_color='1DA1F2', profile_sidebar_border_color='C0DEED', profile_sidebar_fill_color='DDEEF6', profile_text_color='333333', profile_use_background_image=True, has_extended_profile=False, default_profile=True, default_profile_image=False, following=False, follow_request_sent=False, notifications=False, translator_type='none'),\n",
       " 'user': User(_api=<tweepy.api.API object at 0x00000266771BF7C8>, _json={'id': 257968813, 'id_str': '257968813', 'name': 'Just Jim 🌮 🌮 🌮', 'screen_name': 'NeitherExtreme', 'location': '', 'description': \"26 year AF Veteran. \\n\\nEverything I do is for my animals.\\n\\nI'm a man brimming with contradictions.\\n\\nDid I say I ❤ women in boots?\", 'url': None, 'entities': {'description': {'urls': []}}, 'protected': False, 'followers_count': 338, 'friends_count': 773, 'listed_count': 0, 'created_at': 'Sat Feb 26 17:35:49 +0000 2011', 'favourites_count': 20121, 'utc_offset': None, 'time_zone': None, 'geo_enabled': False, 'verified': False, 'statuses_count': 14205, 'lang': None, 'contributors_enabled': False, 'is_translator': False, 'is_translation_enabled': False, 'profile_background_color': 'C0DEED', 'profile_background_image_url': 'http://abs.twimg.com/images/themes/theme1/bg.png', 'profile_background_image_url_https': 'https://abs.twimg.com/images/themes/theme1/bg.png', 'profile_background_tile': False, 'profile_image_url': 'http://pbs.twimg.com/profile_images/1221898204981018624/mammg2Yb_normal.jpg', 'profile_image_url_https': 'https://pbs.twimg.com/profile_images/1221898204981018624/mammg2Yb_normal.jpg', 'profile_banner_url': 'https://pbs.twimg.com/profile_banners/257968813/1565736934', 'profile_link_color': '1DA1F2', 'profile_sidebar_border_color': 'C0DEED', 'profile_sidebar_fill_color': 'DDEEF6', 'profile_text_color': '333333', 'profile_use_background_image': True, 'has_extended_profile': False, 'default_profile': True, 'default_profile_image': False, 'following': False, 'follow_request_sent': False, 'notifications': False, 'translator_type': 'none'}, id=257968813, id_str='257968813', name='Just Jim 🌮 🌮 🌮', screen_name='NeitherExtreme', location='', description=\"26 year AF Veteran. \\n\\nEverything I do is for my animals.\\n\\nI'm a man brimming with contradictions.\\n\\nDid I say I ❤ women in boots?\", url=None, entities={'description': {'urls': []}}, protected=False, followers_count=338, friends_count=773, listed_count=0, created_at=datetime.datetime(2011, 2, 26, 17, 35, 49), favourites_count=20121, utc_offset=None, time_zone=None, geo_enabled=False, verified=False, statuses_count=14205, lang=None, contributors_enabled=False, is_translator=False, is_translation_enabled=False, profile_background_color='C0DEED', profile_background_image_url='http://abs.twimg.com/images/themes/theme1/bg.png', profile_background_image_url_https='https://abs.twimg.com/images/themes/theme1/bg.png', profile_background_tile=False, profile_image_url='http://pbs.twimg.com/profile_images/1221898204981018624/mammg2Yb_normal.jpg', profile_image_url_https='https://pbs.twimg.com/profile_images/1221898204981018624/mammg2Yb_normal.jpg', profile_banner_url='https://pbs.twimg.com/profile_banners/257968813/1565736934', profile_link_color='1DA1F2', profile_sidebar_border_color='C0DEED', profile_sidebar_fill_color='DDEEF6', profile_text_color='333333', profile_use_background_image=True, has_extended_profile=False, default_profile=True, default_profile_image=False, following=False, follow_request_sent=False, notifications=False, translator_type='none'),\n",
       " 'geo': None,\n",
       " 'coordinates': None,\n",
       " 'place': None,\n",
       " 'contributors': None,\n",
       " 'is_quote_status': False,\n",
       " 'retweet_count': 0,\n",
       " 'favorite_count': 0,\n",
       " 'favorited': False,\n",
       " 'retweeted': False,\n",
       " 'lang': 'en'}"
      ]
     },
     "execution_count": 4,
     "metadata": {},
     "output_type": "execute_result"
    }
   ],
   "source": [
    "#first tweet\n",
    "all_tweets[0]"
   ]
  },
  {
   "cell_type": "code",
   "execution_count": 2,
   "metadata": {},
   "outputs": [],
   "source": [
    "import json"
   ]
  },
  {
   "cell_type": "code",
   "execution_count": 4,
   "metadata": {},
   "outputs": [
    {
     "ename": "MemoryError",
     "evalue": "",
     "output_type": "error",
     "traceback": [
      "\u001b[1;31m---------------------------------------------------------------------------\u001b[0m",
      "\u001b[1;31mMemoryError\u001b[0m                               Traceback (most recent call last)",
      "\u001b[1;32m<ipython-input-4-5d1a97edbc7b>\u001b[0m in \u001b[0;36m<module>\u001b[1;34m\u001b[0m\n\u001b[0;32m      1\u001b[0m \u001b[1;32mwith\u001b[0m \u001b[0mopen\u001b[0m\u001b[1;33m(\u001b[0m\u001b[1;34m'C:\\\\Users\\\\KC\\\\Downloads\\\\DAENjson\\\\DAEN.json'\u001b[0m\u001b[1;33m,\u001b[0m \u001b[1;34m\"r\"\u001b[0m\u001b[1;33m)\u001b[0m \u001b[1;32mas\u001b[0m \u001b[0mf\u001b[0m\u001b[1;33m:\u001b[0m\u001b[1;33m\u001b[0m\u001b[1;33m\u001b[0m\u001b[0m\n\u001b[1;32m----> 2\u001b[1;33m     \u001b[0mdata\u001b[0m \u001b[1;33m=\u001b[0m \u001b[0mjson\u001b[0m\u001b[1;33m.\u001b[0m\u001b[0mload\u001b[0m\u001b[1;33m(\u001b[0m\u001b[0mf\u001b[0m\u001b[1;33m)\u001b[0m\u001b[1;33m\u001b[0m\u001b[1;33m\u001b[0m\u001b[0m\n\u001b[0m\u001b[0;32m      3\u001b[0m \u001b[0mdata\u001b[0m\u001b[1;33m\u001b[0m\u001b[1;33m\u001b[0m\u001b[0m\n",
      "\u001b[1;32mC:\\Program Files (x86)\\Python38-32\\lib\\json\\__init__.py\u001b[0m in \u001b[0;36mload\u001b[1;34m(fp, cls, object_hook, parse_float, parse_int, parse_constant, object_pairs_hook, **kw)\u001b[0m\n\u001b[0;32m    291\u001b[0m     \u001b[0mkwarg\u001b[0m\u001b[1;33m;\u001b[0m \u001b[0motherwise\u001b[0m\u001b[0;31m \u001b[0m\u001b[0;31m`\u001b[0m\u001b[0;31m`\u001b[0m\u001b[0mJSONDecoder\u001b[0m\u001b[0;31m`\u001b[0m\u001b[0;31m`\u001b[0m \u001b[1;32mis\u001b[0m \u001b[0mused\u001b[0m\u001b[1;33m.\u001b[0m\u001b[1;33m\u001b[0m\u001b[1;33m\u001b[0m\u001b[0m\n\u001b[0;32m    292\u001b[0m     \"\"\"\n\u001b[1;32m--> 293\u001b[1;33m     return loads(fp.read(),\n\u001b[0m\u001b[0;32m    294\u001b[0m         \u001b[0mcls\u001b[0m\u001b[1;33m=\u001b[0m\u001b[0mcls\u001b[0m\u001b[1;33m,\u001b[0m \u001b[0mobject_hook\u001b[0m\u001b[1;33m=\u001b[0m\u001b[0mobject_hook\u001b[0m\u001b[1;33m,\u001b[0m\u001b[1;33m\u001b[0m\u001b[1;33m\u001b[0m\u001b[0m\n\u001b[0;32m    295\u001b[0m         \u001b[0mparse_float\u001b[0m\u001b[1;33m=\u001b[0m\u001b[0mparse_float\u001b[0m\u001b[1;33m,\u001b[0m \u001b[0mparse_int\u001b[0m\u001b[1;33m=\u001b[0m\u001b[0mparse_int\u001b[0m\u001b[1;33m,\u001b[0m\u001b[1;33m\u001b[0m\u001b[1;33m\u001b[0m\u001b[0m\n",
      "\u001b[1;31mMemoryError\u001b[0m: "
     ]
    }
   ],
   "source": [
    "with open('C:\\\\Users\\\\KC\\\\Downloads\\\\DAENjson\\\\DAEN.json', \"r\") as f:\n",
    "    data = json.load(f)\n",
    "data"
   ]
  },
  {
   "cell_type": "code",
   "execution_count": null,
   "metadata": {},
   "outputs": [],
   "source": []
  },
  {
   "cell_type": "code",
   "execution_count": null,
   "metadata": {},
   "outputs": [],
   "source": []
  },
  {
   "cell_type": "code",
   "execution_count": null,
   "metadata": {},
   "outputs": [],
   "source": []
  },
  {
   "cell_type": "code",
   "execution_count": null,
   "metadata": {},
   "outputs": [],
   "source": []
  }
 ],
 "metadata": {
  "kernelspec": {
   "display_name": "Python 3",
   "language": "python",
   "name": "python3"
  },
  "language_info": {
   "codemirror_mode": {
    "name": "ipython",
    "version": 3
   },
   "file_extension": ".py",
   "mimetype": "text/x-python",
   "name": "python",
   "nbconvert_exporter": "python",
   "pygments_lexer": "ipython3",
   "version": "3.8.5"
  }
 },
 "nbformat": 4,
 "nbformat_minor": 4
}
