{
 "cells": [
  {
   "cell_type": "code",
   "execution_count": 7,
   "metadata": {},
   "outputs": [],
   "source": [
    "#import urllib\n",
    "#import pymongo\n",
    "import time\n",
    "import re\n",
    "import numpy as np\n",
    "import cv2\n",
    "import pandas as pd\n",
    "from matplotlib import pyplot as plt\n",
    "from PIL import Image\n",
    "import requests\n",
    "from io import BytesIO\n",
    "from tqdm import tqdm\n",
    "\n",
    "\n",
    "\n"
   ]
  },
  {
   "cell_type": "code",
   "execution_count": 6,
   "metadata": {},
   "outputs": [],
   "source": [
    "db = pymongo.MongoClient()\n",
    "stream = db.twitter.steam_collection"
   ]
  },
  {
   "cell_type": "code",
   "execution_count": 8,
   "metadata": {},
   "outputs": [
    {
     "name": "stdout",
     "output_type": "stream",
     "text": [
      "0.00897526741027832\n"
     ]
    }
   ],
   "source": [
    "count = 0\n",
    "value = []\n",
    "start = time.time()\n",
    "for i in stream.find({\"_id\":{\"$exists\":\"true\"}}):\n",
    "    try:\n",
    "        value.append(i)\n",
    "        #value.append(i[\"place\"]['country_code'])\n",
    "    except:\n",
    "        pass\n",
    "    break\n",
    "    \n",
    "print(time.time()-start)"
   ]
  },
  {
   "cell_type": "code",
   "execution_count": null,
   "metadata": {},
   "outputs": [],
   "source": [
    "image_url = \n",
    "response = urllib.request.urlopen(image_url)"
   ]
  },
  {
   "cell_type": "code",
   "execution_count": 9,
   "metadata": {},
   "outputs": [
    {
     "data": {
      "text/plain": [
       "'https://pbs.twimg.com/profile_images/1308453461755924487/AW49jb95.jpg'"
      ]
     },
     "execution_count": 9,
     "metadata": {},
     "output_type": "execute_result"
    }
   ],
   "source": [
    "re.sub('_normal','',value[0]['user']['profile_image_url_https'])"
   ]
  },
  {
   "cell_type": "code",
   "execution_count": null,
   "metadata": {},
   "outputs": [],
   "source": []
  },
  {
   "cell_type": "code",
   "execution_count": null,
   "metadata": {},
   "outputs": [],
   "source": [
    "United States     156271\n",
    "Brazil             76454\n",
    "United Kingdom     23311\n",
    "Japan              22862\n",
    "Argentina          15868\n",
    "Turkey             14534\n",
    "Mexico             14330\n",
    "Saudi Arabia       13261\n",
    "Indonesia          12967\n",
    "India              10892\n",
    "not found              1\n",
    "Name: country_name, dtype: int64"
   ]
  },
  {
   "cell_type": "code",
   "execution_count": null,
   "metadata": {},
   "outputs": [],
   "source": []
  },
  {
   "cell_type": "code",
   "execution_count": null,
   "metadata": {},
   "outputs": [],
   "source": []
  },
  {
   "cell_type": "code",
   "execution_count": null,
   "metadata": {},
   "outputs": [],
   "source": []
  },
  {
   "cell_type": "code",
   "execution_count": 8,
   "metadata": {},
   "outputs": [],
   "source": [
    "data = pd.read_csv('C:\\\\Users\\\\KC\\\\Downloads\\\\final.csv')"
   ]
  },
  {
   "cell_type": "code",
   "execution_count": 9,
   "metadata": {},
   "outputs": [
    {
     "data": {
      "text/html": [
       "<div>\n",
       "<style scoped>\n",
       "    .dataframe tbody tr th:only-of-type {\n",
       "        vertical-align: middle;\n",
       "    }\n",
       "\n",
       "    .dataframe tbody tr th {\n",
       "        vertical-align: top;\n",
       "    }\n",
       "\n",
       "    .dataframe thead th {\n",
       "        text-align: right;\n",
       "    }\n",
       "</style>\n",
       "<table border=\"1\" class=\"dataframe\">\n",
       "  <thead>\n",
       "    <tr style=\"text-align: right;\">\n",
       "      <th></th>\n",
       "      <th>tweet</th>\n",
       "      <th>country_code</th>\n",
       "      <th>bounding_box</th>\n",
       "      <th>screen_name</th>\n",
       "      <th>favourites_count</th>\n",
       "      <th>followers_count</th>\n",
       "      <th>statuses_count</th>\n",
       "      <th>friends_count</th>\n",
       "      <th>listed_count</th>\n",
       "      <th>image_url</th>\n",
       "      <th>banner_url</th>\n",
       "      <th>centroid</th>\n",
       "    </tr>\n",
       "  </thead>\n",
       "  <tbody>\n",
       "    <tr>\n",
       "      <th>0</th>\n",
       "      <td>Skin trial doang belagu sia,\\nDah ah cape mo s...</td>\n",
       "      <td>ID</td>\n",
       "      <td>[[[107.666224, -6.938641], [107.666224, -6.904...</td>\n",
       "      <td>bangsadpeople</td>\n",
       "      <td>3202.0</td>\n",
       "      <td>636.0</td>\n",
       "      <td>4754.0</td>\n",
       "      <td>442.0</td>\n",
       "      <td>1.0</td>\n",
       "      <td>https://pbs.twimg.com/profile_images/130582291...</td>\n",
       "      <td>https://pbs.twimg.com/profile_banners/10518289...</td>\n",
       "      <td>(-6.921403, 107.67888099999999)</td>\n",
       "    </tr>\n",
       "    <tr>\n",
       "      <th>1</th>\n",
       "      <td>@Pitty É como você já dizia na letra genial de...</td>\n",
       "      <td>BR</td>\n",
       "      <td>[[[-48.285982, -16.052405], [-48.285982, -15.5...</td>\n",
       "      <td>HugsOfPoetry</td>\n",
       "      <td>9110.0</td>\n",
       "      <td>171.0</td>\n",
       "      <td>5648.0</td>\n",
       "      <td>597.0</td>\n",
       "      <td>0.0</td>\n",
       "      <td>https://pbs.twimg.com/profile_images/128967808...</td>\n",
       "      <td>https://pbs.twimg.com/profile_banners/10595783...</td>\n",
       "      <td>(-15.776254, -47.796623000000004)</td>\n",
       "    </tr>\n",
       "    <tr>\n",
       "      <th>2</th>\n",
       "      <td>@ruhsuzkarbonat Yapacak bişi yok...daha iyilerine</td>\n",
       "      <td>TR</td>\n",
       "      <td>[[[28.632104, 40.802734], [28.632104, 41.23990...</td>\n",
       "      <td>papillonhero</td>\n",
       "      <td>1937.0</td>\n",
       "      <td>236.0</td>\n",
       "      <td>2555.0</td>\n",
       "      <td>601.0</td>\n",
       "      <td>0.0</td>\n",
       "      <td>https://pbs.twimg.com/profile_images/127750686...</td>\n",
       "      <td>https://pbs.twimg.com/profile_banners/78716328...</td>\n",
       "      <td>(41.0213205, 29.005222500000002)</td>\n",
       "    </tr>\n",
       "    <tr>\n",
       "      <th>3</th>\n",
       "      <td>\"Samay\" aur \"shabd\" dono ka upayog laparvahee ...</td>\n",
       "      <td>IN</td>\n",
       "      <td>[[[86.054331, 19.850414], [86.054331, 19.90745...</td>\n",
       "      <td>abhi_kumar_pth</td>\n",
       "      <td>279.0</td>\n",
       "      <td>7.0</td>\n",
       "      <td>56.0</td>\n",
       "      <td>23.0</td>\n",
       "      <td>0.0</td>\n",
       "      <td>https://pbs.twimg.com/profile_images/125880954...</td>\n",
       "      <td>https://pbs.twimg.com/profile_banners/12575068...</td>\n",
       "      <td>(19.878935, 86.08442550000001)</td>\n",
       "    </tr>\n",
       "    <tr>\n",
       "      <th>4</th>\n",
       "      <td>ان الله لا يخيب عبدا تفائل به خيرا💙 https://t....</td>\n",
       "      <td>SA</td>\n",
       "      <td>[[[46.304398, 24.332068], [46.304398, 25.11181...</td>\n",
       "      <td>M30000o</td>\n",
       "      <td>2.0</td>\n",
       "      <td>5337.0</td>\n",
       "      <td>696.0</td>\n",
       "      <td>218.0</td>\n",
       "      <td>3.0</td>\n",
       "      <td>https://pbs.twimg.com/profile_images/119581213...</td>\n",
       "      <td>https://pbs.twimg.com/profile_banners/11958119...</td>\n",
       "      <td>(24.721943500000002, 46.685077)</td>\n",
       "    </tr>\n",
       "  </tbody>\n",
       "</table>\n",
       "</div>"
      ],
      "text/plain": [
       "                                               tweet country_code  \\\n",
       "0  Skin trial doang belagu sia,\\nDah ah cape mo s...           ID   \n",
       "1  @Pitty É como você já dizia na letra genial de...           BR   \n",
       "2  @ruhsuzkarbonat Yapacak bişi yok...daha iyilerine           TR   \n",
       "3  \"Samay\" aur \"shabd\" dono ka upayog laparvahee ...           IN   \n",
       "4  ان الله لا يخيب عبدا تفائل به خيرا💙 https://t....           SA   \n",
       "\n",
       "                                        bounding_box     screen_name  \\\n",
       "0  [[[107.666224, -6.938641], [107.666224, -6.904...   bangsadpeople   \n",
       "1  [[[-48.285982, -16.052405], [-48.285982, -15.5...    HugsOfPoetry   \n",
       "2  [[[28.632104, 40.802734], [28.632104, 41.23990...    papillonhero   \n",
       "3  [[[86.054331, 19.850414], [86.054331, 19.90745...  abhi_kumar_pth   \n",
       "4  [[[46.304398, 24.332068], [46.304398, 25.11181...         M30000o   \n",
       "\n",
       "   favourites_count  followers_count  statuses_count  friends_count  \\\n",
       "0            3202.0            636.0          4754.0          442.0   \n",
       "1            9110.0            171.0          5648.0          597.0   \n",
       "2            1937.0            236.0          2555.0          601.0   \n",
       "3             279.0              7.0            56.0           23.0   \n",
       "4               2.0           5337.0           696.0          218.0   \n",
       "\n",
       "   listed_count                                          image_url  \\\n",
       "0           1.0  https://pbs.twimg.com/profile_images/130582291...   \n",
       "1           0.0  https://pbs.twimg.com/profile_images/128967808...   \n",
       "2           0.0  https://pbs.twimg.com/profile_images/127750686...   \n",
       "3           0.0  https://pbs.twimg.com/profile_images/125880954...   \n",
       "4           3.0  https://pbs.twimg.com/profile_images/119581213...   \n",
       "\n",
       "                                          banner_url  \\\n",
       "0  https://pbs.twimg.com/profile_banners/10518289...   \n",
       "1  https://pbs.twimg.com/profile_banners/10595783...   \n",
       "2  https://pbs.twimg.com/profile_banners/78716328...   \n",
       "3  https://pbs.twimg.com/profile_banners/12575068...   \n",
       "4  https://pbs.twimg.com/profile_banners/11958119...   \n",
       "\n",
       "                            centroid  \n",
       "0    (-6.921403, 107.67888099999999)  \n",
       "1  (-15.776254, -47.796623000000004)  \n",
       "2   (41.0213205, 29.005222500000002)  \n",
       "3     (19.878935, 86.08442550000001)  \n",
       "4    (24.721943500000002, 46.685077)  "
      ]
     },
     "execution_count": 9,
     "metadata": {},
     "output_type": "execute_result"
    }
   ],
   "source": [
    "data.head()"
   ]
  },
  {
   "cell_type": "code",
   "execution_count": 23,
   "metadata": {},
   "outputs": [
    {
     "data": {
      "text/plain": [
       "'https://pbs.twimg.com/profile_images/1305822914646691842/grwpiD7I.jpg'"
      ]
     },
     "execution_count": 23,
     "metadata": {},
     "output_type": "execute_result"
    }
   ],
   "source": [
    "data.iloc[0]['image_url']"
   ]
  },
  {
   "cell_type": "code",
   "execution_count": 10,
   "metadata": {},
   "outputs": [
    {
     "name": "stderr",
     "output_type": "stream",
     "text": [
      "100%|████████████████████████████████████████████████████████████████████████████████| 100/100 [00:14<00:00,  6.98it/s]"
     ]
    },
    {
     "name": "stdout",
     "output_type": "stream",
     "text": [
      "14.323190689086914\n"
     ]
    },
    {
     "name": "stderr",
     "output_type": "stream",
     "text": [
      "\n"
     ]
    }
   ],
   "source": [
    "profile = []\n",
    "banner = []\n",
    "none = []\n",
    "count = 0\n",
    "start = time.time()\n",
    "for num in tqdm(range(100)):\n",
    "    image_url = data.iloc[num][\"image_url\"]\n",
    "    banner_url = data.iloc[num][\"banner_url\"]\n",
    "    try:\n",
    "        profile.append(np.asarray(Image.open(requests.get(image_url, stream=True).raw)))\n",
    "        banner.append(np.asarray(Image.open(requests.get(banner_url, stream=True).raw)))\n",
    "    except:\n",
    "        none.append(num)\n",
    "        count += 1\n",
    "        \n",
    "print(time.time()-start)"
   ]
  },
  {
   "cell_type": "code",
   "execution_count": 11,
   "metadata": {},
   "outputs": [
    {
     "data": {
      "text/plain": [
       "<matplotlib.image.AxesImage at 0x23407488c40>"
      ]
     },
     "execution_count": 11,
     "metadata": {},
     "output_type": "execute_result"
    },
    {
     "data": {
      "image/png": "[encoded data removed]",
      "text/plain": [
       "<Figure size 432x288 with 1 Axes>"
      ]
     },
     "metadata": {
      "needs_background": "light"
     },
     "output_type": "display_data"
    }
   ],
   "source": [
    "plt.imshow(banner[4])"
   ]
  },
  {
   "cell_type": "code",
   "execution_count": 13,
   "metadata": {},
   "outputs": [
    {
     "data": {
      "text/plain": [
       "(170, 511, 3)"
      ]
     },
     "execution_count": 13,
     "metadata": {},
     "output_type": "execute_result"
    }
   ],
   "source": [
    "banner[0].shape"
   ]
  },
  {
   "cell_type": "code",
   "execution_count": null,
   "metadata": {},
   "outputs": [],
   "source": []
  },
  {
   "cell_type": "code",
   "execution_count": null,
   "metadata": {},
   "outputs": [],
   "source": []
  },
  {
   "cell_type": "code",
   "execution_count": null,
   "metadata": {},
   "outputs": [],
   "source": []
  },
  {
   "cell_type": "code",
   "execution_count": null,
   "metadata": {},
   "outputs": [],
   "source": []
  },
  {
   "cell_type": "code",
   "execution_count": 16,
   "metadata": {},
   "outputs": [],
   "source": [
    "img_bytes = requests.get(data.iloc[2][\"image_url\"]).content"
   ]
  }
 ],
 "metadata": {
  "kernelspec": {
   "display_name": "Python 3",
   "language": "python",
   "name": "python3"
  },
  "language_info": {
   "codemirror_mode": {
    "name": "ipython",
    "version": 3
   },
   "file_extension": ".py",
   "mimetype": "text/x-python",
   "name": "python",
   "nbconvert_exporter": "python",
   "pygments_lexer": "ipython3",
   "version": "3.8.3"
  }
 },
 "nbformat": 4,
 "nbformat_minor": 4
}
